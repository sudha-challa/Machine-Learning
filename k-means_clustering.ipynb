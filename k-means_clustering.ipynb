{
 "cells": [
  {
   "cell_type": "code",
   "execution_count": 2,
   "id": "88775989",
   "metadata": {},
   "outputs": [],
   "source": [
    "import pandas as pd\n",
    "import numpy as np\n",
    "import matplotlib.pyplot as plt\n",
    "import seaborn as sns\n",
    "from sklearn.cluster import KMeans\n",
    "from sklearn.impute import SimpleImputer\n",
    "from sklearn.preprocessing import MinMaxScaler\n"
   ]
  },
  {
   "cell_type": "code",
   "execution_count": 5,
   "id": "19772594",
   "metadata": {},
   "outputs": [
    {
     "data": {
      "text/html": [
       "<div>\n",
       "<style scoped>\n",
       "    .dataframe tbody tr th:only-of-type {\n",
       "        vertical-align: middle;\n",
       "    }\n",
       "\n",
       "    .dataframe tbody tr th {\n",
       "        vertical-align: top;\n",
       "    }\n",
       "\n",
       "    .dataframe thead th {\n",
       "        text-align: right;\n",
       "    }\n",
       "</style>\n",
       "<table border=\"1\" class=\"dataframe\">\n",
       "  <thead>\n",
       "    <tr style=\"text-align: right;\">\n",
       "      <th></th>\n",
       "      <th>sepal_length</th>\n",
       "      <th>sepal_width</th>\n",
       "      <th>petal_length</th>\n",
       "      <th>petal_width</th>\n",
       "      <th>species</th>\n",
       "    </tr>\n",
       "  </thead>\n",
       "  <tbody>\n",
       "    <tr>\n",
       "      <th>0</th>\n",
       "      <td>5.1</td>\n",
       "      <td>3.5</td>\n",
       "      <td>1.4</td>\n",
       "      <td>0.2</td>\n",
       "      <td>setosa</td>\n",
       "    </tr>\n",
       "    <tr>\n",
       "      <th>1</th>\n",
       "      <td>4.9</td>\n",
       "      <td>3.0</td>\n",
       "      <td>1.4</td>\n",
       "      <td>0.2</td>\n",
       "      <td>setosa</td>\n",
       "    </tr>\n",
       "    <tr>\n",
       "      <th>2</th>\n",
       "      <td>4.7</td>\n",
       "      <td>3.2</td>\n",
       "      <td>1.3</td>\n",
       "      <td>0.2</td>\n",
       "      <td>setosa</td>\n",
       "    </tr>\n",
       "    <tr>\n",
       "      <th>3</th>\n",
       "      <td>4.6</td>\n",
       "      <td>3.1</td>\n",
       "      <td>1.5</td>\n",
       "      <td>0.2</td>\n",
       "      <td>setosa</td>\n",
       "    </tr>\n",
       "    <tr>\n",
       "      <th>4</th>\n",
       "      <td>5.0</td>\n",
       "      <td>3.6</td>\n",
       "      <td>1.4</td>\n",
       "      <td>0.2</td>\n",
       "      <td>setosa</td>\n",
       "    </tr>\n",
       "  </tbody>\n",
       "</table>\n",
       "</div>"
      ],
      "text/plain": [
       "   sepal_length  sepal_width  petal_length  petal_width species\n",
       "0           5.1          3.5           1.4          0.2  setosa\n",
       "1           4.9          3.0           1.4          0.2  setosa\n",
       "2           4.7          3.2           1.3          0.2  setosa\n",
       "3           4.6          3.1           1.5          0.2  setosa\n",
       "4           5.0          3.6           1.4          0.2  setosa"
      ]
     },
     "execution_count": 5,
     "metadata": {},
     "output_type": "execute_result"
    }
   ],
   "source": [
    "df=sns.load_dataset('iris')\n",
    "df.head()"
   ]
  },
  {
   "cell_type": "code",
   "execution_count": 6,
   "id": "857d451d",
   "metadata": {},
   "outputs": [
    {
     "name": "stdout",
     "output_type": "stream",
     "text": [
      "<class 'pandas.core.frame.DataFrame'>\n",
      "RangeIndex: 150 entries, 0 to 149\n",
      "Data columns (total 5 columns):\n",
      " #   Column        Non-Null Count  Dtype  \n",
      "---  ------        --------------  -----  \n",
      " 0   sepal_length  150 non-null    float64\n",
      " 1   sepal_width   150 non-null    float64\n",
      " 2   petal_length  150 non-null    float64\n",
      " 3   petal_width   150 non-null    float64\n",
      " 4   species       150 non-null    object \n",
      "dtypes: float64(4), object(1)\n",
      "memory usage: 6.0+ KB\n"
     ]
    }
   ],
   "source": [
    "df.info()"
   ]
  },
  {
   "cell_type": "code",
   "execution_count": 7,
   "id": "d8775969",
   "metadata": {},
   "outputs": [
    {
     "data": {
      "text/plain": [
       "sepal_length    0\n",
       "sepal_width     0\n",
       "petal_length    0\n",
       "petal_width     0\n",
       "species         0\n",
       "dtype: int64"
      ]
     },
     "execution_count": 7,
     "metadata": {},
     "output_type": "execute_result"
    }
   ],
   "source": [
    "df.isnull().sum()"
   ]
  },
  {
   "cell_type": "code",
   "execution_count": 8,
   "id": "251aef02",
   "metadata": {},
   "outputs": [
    {
     "data": {
      "text/html": [
       "<div>\n",
       "<style scoped>\n",
       "    .dataframe tbody tr th:only-of-type {\n",
       "        vertical-align: middle;\n",
       "    }\n",
       "\n",
       "    .dataframe tbody tr th {\n",
       "        vertical-align: top;\n",
       "    }\n",
       "\n",
       "    .dataframe thead th {\n",
       "        text-align: right;\n",
       "    }\n",
       "</style>\n",
       "<table border=\"1\" class=\"dataframe\">\n",
       "  <thead>\n",
       "    <tr style=\"text-align: right;\">\n",
       "      <th></th>\n",
       "      <th>sepal_length</th>\n",
       "      <th>sepal_width</th>\n",
       "      <th>petal_length</th>\n",
       "      <th>petal_width</th>\n",
       "    </tr>\n",
       "  </thead>\n",
       "  <tbody>\n",
       "    <tr>\n",
       "      <th>count</th>\n",
       "      <td>150.000000</td>\n",
       "      <td>150.000000</td>\n",
       "      <td>150.000000</td>\n",
       "      <td>150.000000</td>\n",
       "    </tr>\n",
       "    <tr>\n",
       "      <th>mean</th>\n",
       "      <td>5.843333</td>\n",
       "      <td>3.057333</td>\n",
       "      <td>3.758000</td>\n",
       "      <td>1.199333</td>\n",
       "    </tr>\n",
       "    <tr>\n",
       "      <th>std</th>\n",
       "      <td>0.828066</td>\n",
       "      <td>0.435866</td>\n",
       "      <td>1.765298</td>\n",
       "      <td>0.762238</td>\n",
       "    </tr>\n",
       "    <tr>\n",
       "      <th>min</th>\n",
       "      <td>4.300000</td>\n",
       "      <td>2.000000</td>\n",
       "      <td>1.000000</td>\n",
       "      <td>0.100000</td>\n",
       "    </tr>\n",
       "    <tr>\n",
       "      <th>25%</th>\n",
       "      <td>5.100000</td>\n",
       "      <td>2.800000</td>\n",
       "      <td>1.600000</td>\n",
       "      <td>0.300000</td>\n",
       "    </tr>\n",
       "    <tr>\n",
       "      <th>50%</th>\n",
       "      <td>5.800000</td>\n",
       "      <td>3.000000</td>\n",
       "      <td>4.350000</td>\n",
       "      <td>1.300000</td>\n",
       "    </tr>\n",
       "    <tr>\n",
       "      <th>75%</th>\n",
       "      <td>6.400000</td>\n",
       "      <td>3.300000</td>\n",
       "      <td>5.100000</td>\n",
       "      <td>1.800000</td>\n",
       "    </tr>\n",
       "    <tr>\n",
       "      <th>max</th>\n",
       "      <td>7.900000</td>\n",
       "      <td>4.400000</td>\n",
       "      <td>6.900000</td>\n",
       "      <td>2.500000</td>\n",
       "    </tr>\n",
       "  </tbody>\n",
       "</table>\n",
       "</div>"
      ],
      "text/plain": [
       "       sepal_length  sepal_width  petal_length  petal_width\n",
       "count    150.000000   150.000000    150.000000   150.000000\n",
       "mean       5.843333     3.057333      3.758000     1.199333\n",
       "std        0.828066     0.435866      1.765298     0.762238\n",
       "min        4.300000     2.000000      1.000000     0.100000\n",
       "25%        5.100000     2.800000      1.600000     0.300000\n",
       "50%        5.800000     3.000000      4.350000     1.300000\n",
       "75%        6.400000     3.300000      5.100000     1.800000\n",
       "max        7.900000     4.400000      6.900000     2.500000"
      ]
     },
     "execution_count": 8,
     "metadata": {},
     "output_type": "execute_result"
    }
   ],
   "source": [
    "df.describe()"
   ]
  },
  {
   "cell_type": "code",
   "execution_count": 18,
   "id": "f2fa73c5",
   "metadata": {},
   "outputs": [
    {
     "data": {
      "image/png": "[encoded data removed]",
      "text/plain": [
       "<Figure size 640x480 with 1 Axes>"
      ]
     },
     "metadata": {},
     "output_type": "display_data"
    }
   ],
   "source": [
    "for i in df.columns:\n",
    "#   sns.boxplot(data=df)\n",
    "    sns.boxplot(x=\"species\", y=\"sepal_length\", data=df)\n",
    "plt.show()"
   ]
  },
  {
   "cell_type": "code",
   "execution_count": 19,
   "id": "63b50bec",
   "metadata": {},
   "outputs": [
    {
     "data": {
      "text/plain": [
       "array([[0.22222222, 0.625     , 0.06779661],\n",
       "       [0.16666667, 0.41666667, 0.06779661],\n",
       "       [0.11111111, 0.5       , 0.05084746],\n",
       "       [0.08333333, 0.45833333, 0.08474576],\n",
       "       [0.19444444, 0.66666667, 0.06779661],\n",
       "       [0.30555556, 0.79166667, 0.11864407],\n",
       "       [0.08333333, 0.58333333, 0.06779661],\n",
       "       [0.19444444, 0.58333333, 0.08474576],\n",
       "       [0.02777778, 0.375     , 0.06779661],\n",
       "       [0.16666667, 0.45833333, 0.08474576],\n",
       "       [0.30555556, 0.70833333, 0.08474576],\n",
       "       [0.13888889, 0.58333333, 0.10169492],\n",
       "       [0.13888889, 0.41666667, 0.06779661],\n",
       "       [0.        , 0.41666667, 0.01694915],\n",
       "       [0.41666667, 0.83333333, 0.03389831],\n",
       "       [0.38888889, 1.        , 0.08474576],\n",
       "       [0.30555556, 0.79166667, 0.05084746],\n",
       "       [0.22222222, 0.625     , 0.06779661],\n",
       "       [0.38888889, 0.75      , 0.11864407],\n",
       "       [0.22222222, 0.75      , 0.08474576],\n",
       "       [0.30555556, 0.58333333, 0.11864407],\n",
       "       [0.22222222, 0.70833333, 0.08474576],\n",
       "       [0.08333333, 0.66666667, 0.        ],\n",
       "       [0.22222222, 0.54166667, 0.11864407],\n",
       "       [0.13888889, 0.58333333, 0.15254237],\n",
       "       [0.19444444, 0.41666667, 0.10169492],\n",
       "       [0.19444444, 0.58333333, 0.10169492],\n",
       "       [0.25      , 0.625     , 0.08474576],\n",
       "       [0.25      , 0.58333333, 0.06779661],\n",
       "       [0.11111111, 0.5       , 0.10169492],\n",
       "       [0.13888889, 0.45833333, 0.10169492],\n",
       "       [0.30555556, 0.58333333, 0.08474576],\n",
       "       [0.25      , 0.875     , 0.08474576],\n",
       "       [0.33333333, 0.91666667, 0.06779661],\n",
       "       [0.16666667, 0.45833333, 0.08474576],\n",
       "       [0.19444444, 0.5       , 0.03389831],\n",
       "       [0.33333333, 0.625     , 0.05084746],\n",
       "       [0.16666667, 0.66666667, 0.06779661],\n",
       "       [0.02777778, 0.41666667, 0.05084746],\n",
       "       [0.22222222, 0.58333333, 0.08474576],\n",
       "       [0.19444444, 0.625     , 0.05084746],\n",
       "       [0.05555556, 0.125     , 0.05084746],\n",
       "       [0.02777778, 0.5       , 0.05084746],\n",
       "       [0.19444444, 0.625     , 0.10169492],\n",
       "       [0.22222222, 0.75      , 0.15254237],\n",
       "       [0.13888889, 0.41666667, 0.06779661],\n",
       "       [0.22222222, 0.75      , 0.10169492],\n",
       "       [0.08333333, 0.5       , 0.06779661],\n",
       "       [0.27777778, 0.70833333, 0.08474576],\n",
       "       [0.19444444, 0.54166667, 0.06779661],\n",
       "       [0.75      , 0.5       , 0.62711864],\n",
       "       [0.58333333, 0.5       , 0.59322034],\n",
       "       [0.72222222, 0.45833333, 0.66101695],\n",
       "       [0.33333333, 0.125     , 0.50847458],\n",
       "       [0.61111111, 0.33333333, 0.61016949],\n",
       "       [0.38888889, 0.33333333, 0.59322034],\n",
       "       [0.55555556, 0.54166667, 0.62711864],\n",
       "       [0.16666667, 0.16666667, 0.38983051],\n",
       "       [0.63888889, 0.375     , 0.61016949],\n",
       "       [0.25      , 0.29166667, 0.49152542],\n",
       "       [0.19444444, 0.        , 0.42372881],\n",
       "       [0.44444444, 0.41666667, 0.54237288],\n",
       "       [0.47222222, 0.08333333, 0.50847458],\n",
       "       [0.5       , 0.375     , 0.62711864],\n",
       "       [0.36111111, 0.375     , 0.44067797],\n",
       "       [0.66666667, 0.45833333, 0.57627119],\n",
       "       [0.36111111, 0.41666667, 0.59322034],\n",
       "       [0.41666667, 0.29166667, 0.52542373],\n",
       "       [0.52777778, 0.08333333, 0.59322034],\n",
       "       [0.36111111, 0.20833333, 0.49152542],\n",
       "       [0.44444444, 0.5       , 0.6440678 ],\n",
       "       [0.5       , 0.33333333, 0.50847458],\n",
       "       [0.55555556, 0.20833333, 0.66101695],\n",
       "       [0.5       , 0.33333333, 0.62711864],\n",
       "       [0.58333333, 0.375     , 0.55932203],\n",
       "       [0.63888889, 0.41666667, 0.57627119],\n",
       "       [0.69444444, 0.33333333, 0.6440678 ],\n",
       "       [0.66666667, 0.41666667, 0.6779661 ],\n",
       "       [0.47222222, 0.375     , 0.59322034],\n",
       "       [0.38888889, 0.25      , 0.42372881],\n",
       "       [0.33333333, 0.16666667, 0.47457627],\n",
       "       [0.33333333, 0.16666667, 0.45762712],\n",
       "       [0.41666667, 0.29166667, 0.49152542],\n",
       "       [0.47222222, 0.29166667, 0.69491525],\n",
       "       [0.30555556, 0.41666667, 0.59322034],\n",
       "       [0.47222222, 0.58333333, 0.59322034],\n",
       "       [0.66666667, 0.45833333, 0.62711864],\n",
       "       [0.55555556, 0.125     , 0.57627119],\n",
       "       [0.36111111, 0.41666667, 0.52542373],\n",
       "       [0.33333333, 0.20833333, 0.50847458],\n",
       "       [0.33333333, 0.25      , 0.57627119],\n",
       "       [0.5       , 0.41666667, 0.61016949],\n",
       "       [0.41666667, 0.25      , 0.50847458],\n",
       "       [0.19444444, 0.125     , 0.38983051],\n",
       "       [0.36111111, 0.29166667, 0.54237288],\n",
       "       [0.38888889, 0.41666667, 0.54237288],\n",
       "       [0.38888889, 0.375     , 0.54237288],\n",
       "       [0.52777778, 0.375     , 0.55932203],\n",
       "       [0.22222222, 0.20833333, 0.33898305],\n",
       "       [0.38888889, 0.33333333, 0.52542373],\n",
       "       [0.55555556, 0.54166667, 0.84745763],\n",
       "       [0.41666667, 0.29166667, 0.69491525],\n",
       "       [0.77777778, 0.41666667, 0.83050847],\n",
       "       [0.55555556, 0.375     , 0.77966102],\n",
       "       [0.61111111, 0.41666667, 0.81355932],\n",
       "       [0.91666667, 0.41666667, 0.94915254],\n",
       "       [0.16666667, 0.20833333, 0.59322034],\n",
       "       [0.83333333, 0.375     , 0.89830508],\n",
       "       [0.66666667, 0.20833333, 0.81355932],\n",
       "       [0.80555556, 0.66666667, 0.86440678],\n",
       "       [0.61111111, 0.5       , 0.69491525],\n",
       "       [0.58333333, 0.29166667, 0.72881356],\n",
       "       [0.69444444, 0.41666667, 0.76271186],\n",
       "       [0.38888889, 0.20833333, 0.6779661 ],\n",
       "       [0.41666667, 0.33333333, 0.69491525],\n",
       "       [0.58333333, 0.5       , 0.72881356],\n",
       "       [0.61111111, 0.41666667, 0.76271186],\n",
       "       [0.94444444, 0.75      , 0.96610169],\n",
       "       [0.94444444, 0.25      , 1.        ],\n",
       "       [0.47222222, 0.08333333, 0.6779661 ],\n",
       "       [0.72222222, 0.5       , 0.79661017],\n",
       "       [0.36111111, 0.33333333, 0.66101695],\n",
       "       [0.94444444, 0.33333333, 0.96610169],\n",
       "       [0.55555556, 0.29166667, 0.66101695],\n",
       "       [0.66666667, 0.54166667, 0.79661017],\n",
       "       [0.80555556, 0.5       , 0.84745763],\n",
       "       [0.52777778, 0.33333333, 0.6440678 ],\n",
       "       [0.5       , 0.41666667, 0.66101695],\n",
       "       [0.58333333, 0.33333333, 0.77966102],\n",
       "       [0.80555556, 0.41666667, 0.81355932],\n",
       "       [0.86111111, 0.33333333, 0.86440678],\n",
       "       [1.        , 0.75      , 0.91525424],\n",
       "       [0.58333333, 0.33333333, 0.77966102],\n",
       "       [0.55555556, 0.33333333, 0.69491525],\n",
       "       [0.5       , 0.25      , 0.77966102],\n",
       "       [0.94444444, 0.41666667, 0.86440678],\n",
       "       [0.55555556, 0.58333333, 0.77966102],\n",
       "       [0.58333333, 0.45833333, 0.76271186],\n",
       "       [0.47222222, 0.41666667, 0.6440678 ],\n",
       "       [0.72222222, 0.45833333, 0.74576271],\n",
       "       [0.66666667, 0.45833333, 0.77966102],\n",
       "       [0.72222222, 0.45833333, 0.69491525],\n",
       "       [0.41666667, 0.29166667, 0.69491525],\n",
       "       [0.69444444, 0.5       , 0.83050847],\n",
       "       [0.66666667, 0.54166667, 0.79661017],\n",
       "       [0.66666667, 0.41666667, 0.71186441],\n",
       "       [0.55555556, 0.20833333, 0.6779661 ],\n",
       "       [0.61111111, 0.41666667, 0.71186441],\n",
       "       [0.52777778, 0.58333333, 0.74576271],\n",
       "       [0.44444444, 0.41666667, 0.69491525]])"
      ]
     },
     "execution_count": 19,
     "metadata": {},
     "output_type": "execute_result"
    }
   ],
   "source": [
    "x=df.iloc[:,0:3].values\n",
    "sc= MinMaxScaler()\n",
    "x= sc.fit_transform(x)\n",
    "x"
   ]
  },
  {
   "cell_type": "code",
   "execution_count": 32,
   "id": "f4cf2233",
   "metadata": {},
   "outputs": [
    {
     "name": "stderr",
     "output_type": "stream",
     "text": [
      "C:\\Users\\sudha\\anaconda3\\lib\\site-packages\\sklearn\\cluster\\_kmeans.py:1036: UserWarning: KMeans is known to have a memory leak on Windows with MKL, when there are less chunks than available threads. You can avoid it by setting the environment variable OMP_NUM_THREADS=1.\n",
      "  warnings.warn(\n"
     ]
    }
   ],
   "source": [
    "from sklearn.cluster import KMeans\n",
    "wcss=[]\n",
    "for i in range(1,11):\n",
    "    kmeans= KMeans(n_clusters=i )\n",
    "    kmeans.fit(x)\n",
    "    wcss.append(kmeans.inertia_)\n",
    "    "
   ]
  },
  {
   "cell_type": "code",
   "execution_count": 33,
   "id": "90a8b92a",
   "metadata": {},
   "outputs": [
    {
     "data": {
      "image/png": "[encoded data removed]",
      "text/plain": [
       "<Figure size 640x480 with 1 Axes>"
      ]
     },
     "metadata": {},
     "output_type": "display_data"
    }
   ],
   "source": [
    "plt.plot(range(1,11),wcss)\n",
    "plt.title('the elbow method')\n",
    "plt.xlabel('number of clusters')\n",
    "plt.ylabel('wcss')\n",
    "plt.show()"
   ]
  },
  {
   "cell_type": "code",
   "execution_count": 51,
   "id": "6699b64e",
   "metadata": {},
   "outputs": [
    {
     "data": {
      "text/plain": [
       "array([1, 1, 1, 1, 1, 1, 1, 1, 1, 1, 1, 1, 1, 1, 1, 1, 1, 1, 1, 1, 1, 1,\n",
       "       1, 1, 1, 1, 1, 1, 1, 1, 1, 1, 1, 1, 1, 1, 1, 1, 1, 1, 1, 1, 1, 1,\n",
       "       1, 1, 1, 1, 1, 1, 2, 2, 2, 0, 0, 0, 2, 0, 2, 0, 0, 0, 0, 0, 0, 2,\n",
       "       0, 0, 0, 0, 0, 0, 0, 0, 0, 2, 2, 2, 0, 0, 0, 0, 0, 0, 0, 0, 2, 0,\n",
       "       0, 0, 0, 0, 0, 0, 0, 0, 0, 0, 0, 0, 2, 0, 2, 2, 2, 2, 0, 2, 2, 2,\n",
       "       2, 2, 2, 0, 0, 2, 2, 2, 2, 0, 2, 0, 2, 0, 2, 2, 0, 0, 2, 2, 2, 2,\n",
       "       2, 0, 0, 2, 2, 2, 0, 2, 2, 2, 0, 2, 2, 2, 0, 2, 2, 0])"
      ]
     },
     "execution_count": 51,
     "metadata": {},
     "output_type": "execute_result"
    }
   ],
   "source": [
    "kmeans=KMeans(n_clusters=3)\n",
    "y_kmeans=kmeans.fit_predict(x)\n",
    "y_kmeans"
   ]
  },
  {
   "cell_type": "code",
   "execution_count": 44,
   "id": "2495d023",
   "metadata": {},
   "outputs": [
    {
     "data": {
      "text/plain": [
       "KMeans(n_clusters=3, random_state=0)"
      ]
     },
     "execution_count": 44,
     "metadata": {},
     "output_type": "execute_result"
    }
   ],
   "source": [
    "KMeans(n_clusters=3, random_state=0)"
   ]
  },
  {
   "cell_type": "code",
   "execution_count": 52,
   "id": "b93c6d5a",
   "metadata": {},
   "outputs": [
    {
     "data": {
      "text/plain": [
       "array([[0.41616162, 0.29090909, 0.57380586],\n",
       "       [0.19611111, 0.595     , 0.07830508],\n",
       "       [0.70246914, 0.45185185, 0.76986817]])"
      ]
     },
     "execution_count": 52,
     "metadata": {},
     "output_type": "execute_result"
    }
   ],
   "source": [
    "kmeans.cluster_centers_"
   ]
  },
  {
   "cell_type": "code",
   "execution_count": 56,
   "id": "36909d55",
   "metadata": {},
   "outputs": [
    {
     "data": {
      "text/plain": [
       "<matplotlib.collections.PathCollection at 0x211c3ae27c0>"
      ]
     },
     "execution_count": 56,
     "metadata": {},
     "output_type": "execute_result"
    },
    {
     "data": {
      "image/png": "[encoded data removed]",
      "text/plain": [
       "<Figure size 640x480 with 1 Axes>"
      ]
     },
     "metadata": {},
     "output_type": "display_data"
    }
   ],
   "source": [
    "plt.scatter(x[y_kmeans==0,0], x[y_kmeans==0,1], s=100, c='purple', label='df.setosa')\n",
    "plt.scatter(x[y_kmeans==1,0], x[y_kmeans==1,1], s=100, c='orange', label='df.versicolour')\n",
    "plt.scatter(x[y_kmeans==2,0], x[y_kmeans==2,1], s=100, c='green', label='df.virginics')\n",
    "plt.scatter(kmeans.cluster_centers_[:,0],kmeans.cluster_centers_[:,1], s=100, c='red',label=\"centroids\" )"
   ]
  },
  {
   "cell_type": "code",
   "execution_count": null,
   "id": "d420b88b",
   "metadata": {},
   "outputs": [],
   "source": []
  }
 ],
 "metadata": {
  "kernelspec": {
   "display_name": "Python 3 (ipykernel)",
   "language": "python",
   "name": "python3"
  },
  "language_info": {
   "codemirror_mode": {
    "name": "ipython",
    "version": 3
   },
   "file_extension": ".py",
   "mimetype": "text/x-python",
   "name": "python",
   "nbconvert_exporter": "python",
   "pygments_lexer": "ipython3",
   "version": "3.9.13"
  }
 },
 "nbformat": 4,
 "nbformat_minor": 5
}
