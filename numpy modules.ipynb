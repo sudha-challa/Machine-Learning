{
 "cells": [
  {
   "cell_type": "code",
   "execution_count": null,
   "id": "fa15cfcf",
   "metadata": {},
   "outputs": [],
   "source": [
    "# Numpy"
   ]
  },
  {
   "cell_type": "code",
   "execution_count": null,
   "id": "fa023e9a",
   "metadata": {},
   "outputs": [],
   "source": [
    "pip install numpy\n"
   ]
  },
  {
   "cell_type": "code",
   "execution_count": 4,
   "id": "c737a6a7",
   "metadata": {},
   "outputs": [],
   "source": [
    "import numpy as np\n",
    "import pandas as pd"
   ]
  },
  {
   "cell_type": "code",
   "execution_count": 8,
   "id": "b7f070cf",
   "metadata": {},
   "outputs": [
    {
     "name": "stdout",
     "output_type": "stream",
     "text": [
      "[ 2  3  5  7 11]\n"
     ]
    }
   ],
   "source": [
    "prime_array=np.array((2,3,5,7,11))\n",
    "print(prime_array)"
   ]
  },
  {
   "cell_type": "code",
   "execution_count": 11,
   "id": "7884a103",
   "metadata": {},
   "outputs": [
    {
     "name": "stdout",
     "output_type": "stream",
     "text": [
      "[[ 2  3  5  7 11]\n",
      " [13 17 19 23 29]]\n"
     ]
    }
   ],
   "source": [
    "#2D array\n",
    "prime_array=np.array([[2,3,5,7,11],[13,17,19,23,29]])\n",
    "print(prime_array)"
   ]
  },
  {
   "cell_type": "code",
   "execution_count": 14,
   "id": "a85c9834",
   "metadata": {},
   "outputs": [
    {
     "name": "stdout",
     "output_type": "stream",
     "text": [
      "[[[ 2  3  5]\n",
      "  [ 7 11 13]\n",
      "  [13 17 19]\n",
      "  [23 25 29]]\n",
      "\n",
      " [[ 2  3  5]\n",
      "  [ 7 11 13]\n",
      "  [13 17 19]\n",
      "  [23 25 29]]]\n"
     ]
    }
   ],
   "source": [
    "#3D array\n",
    "array=np.array([[[2,3,5],[7,11,13],[13,17,19],[23,25,29]],[[2,3,5],[7,11,13],[13,17,19],[23,25,29]]])\n",
    "print(array)"
   ]
  },
  {
   "cell_type": "code",
   "execution_count": null,
   "id": "f01bb97f",
   "metadata": {},
   "outputs": [],
   "source": [
    "#Why numpy?\n",
    "Numpy data stuctures perform better in :\n",
    "1.memory: Numpy data structures take up less space\n",
    "2.performance: they  have a need for speed and are faster than lists\n",
    "3.functionality: sciPy and numPyhave optimized functions such as linear algebra operations and built-in."
   ]
  },
  {
   "cell_type": "code",
   "execution_count": 8,
   "id": "d7c63224",
   "metadata": {},
   "outputs": [
    {
     "data": {
      "text/plain": [
       "array([1., 1., 1., 1., 1., 1.])"
      ]
     },
     "execution_count": 8,
     "metadata": {},
     "output_type": "execute_result"
    }
   ],
   "source": [
    "import numpy as np\n",
    "a1=np.ones(6)\n",
    "a1\n",
    "# a2=np.zeros(5)\n",
    "# a2"
   ]
  },
  {
   "cell_type": "raw",
   "id": "de7a4624",
   "metadata": {},
   "source": [
    "#Array Manipulation\n",
    "# np.transpose(array)---to transform array\n",
    "    transpose is defined as an operator which flips a matrix over its diagonal; \n",
    "    that is it switches the row and column indices of the matrix Aby producing another matrix\n",
    "# np.reshape(array,shape)---to change shape of an array\n",
    "# np.resize(array,shape)---to return new array with  shape\n",
    "# np.faltten(array)---to flatten the array"
   ]
  },
  {
   "cell_type": "code",
   "execution_count": 15,
   "id": "7175e843",
   "metadata": {},
   "outputs": [
    {
     "name": "stdout",
     "output_type": "stream",
     "text": [
      "the defined array is \n",
      "(Arravali)\n",
      "[[8 5 8]\n",
      " [3 8 6]\n",
      " [8 8 3]]\n"
     ]
    }
   ],
   "source": [
    "Arravali=np.array(np.random.randint(1,10,(3,3)))\n",
    "print(\"the defined array is \\n(Arravali)\")\n",
    "print(Arravali)"
   ]
  },
  {
   "cell_type": "code",
   "execution_count": 6,
   "id": "506844a9",
   "metadata": {},
   "outputs": [
    {
     "name": "stdout",
     "output_type": "stream",
     "text": [
      "[[31 43 23 26 11 27 36 44]\n",
      " [26 24 43 43 15 44 20 37]]\n"
     ]
    }
   ],
   "source": [
    "print(np.transpose(Arravali))"
   ]
  },
  {
   "cell_type": "code",
   "execution_count": 8,
   "id": "d9dbbd72",
   "metadata": {},
   "outputs": [
    {
     "name": "stdout",
     "output_type": "stream",
     "text": [
      "[[31 26 43 24]\n",
      " [23 43 26 43]\n",
      " [11 15 27 44]\n",
      " [36 20 44 37]]\n"
     ]
    }
   ],
   "source": [
    "print(np.reshape(Arravali,(4,4)))"
   ]
  },
  {
   "cell_type": "code",
   "execution_count": 9,
   "id": "d25dbb97",
   "metadata": {},
   "outputs": [
    {
     "name": "stdout",
     "output_type": "stream",
     "text": [
      "the defined array is \n",
      "(Arravali)\n",
      "[[[24 14 42 20]\n",
      "  [13 30 26 27]]\n",
      "\n",
      " [[31 24 27 30]\n",
      "  [25 30 12 42]]\n",
      "\n",
      " [[22 17 38 38]\n",
      "  [14 26 35 39]]\n",
      "\n",
      " [[35 17 28 39]\n",
      "  [37 21 11 44]]\n",
      "\n",
      " [[27 27 17 13]\n",
      "  [34 32 33 35]]\n",
      "\n",
      " [[18 24 19 13]\n",
      "  [13 23 11 21]]\n",
      "\n",
      " [[24 22 17 12]\n",
      "  [37 39 18 14]]\n",
      "\n",
      " [[40 21 12 20]\n",
      "  [38 35 35 25]]]\n"
     ]
    }
   ],
   "source": [
    "Arravali=np.array(np.random.randint(10,45,(8,2,4)))\n",
    "print(\"the defined array is \\n(Arravali)\")\n",
    "print(Arravali)"
   ]
  },
  {
   "cell_type": "code",
   "execution_count": 11,
   "id": "4211b5f3",
   "metadata": {},
   "outputs": [
    {
     "name": "stdout",
     "output_type": "stream",
     "text": [
      "[[24 14 42]\n",
      " [20 13 30]\n",
      " [26 27 31]\n",
      " [24 27 30]]\n"
     ]
    }
   ],
   "source": [
    "print(np.resize(Arravali,(4,3)))\n"
   ]
  },
  {
   "cell_type": "raw",
   "id": "4d8e6f36",
   "metadata": {},
   "source": [
    "how we can manipulate our numpy arrays\n",
    "    np.insert\n",
    "    np.append\n",
    "    np.delete\n",
    "    np.unique\n",
    "\n",
    "np.insert(arr,obj,value,axis)\n",
    "np.append(arr,value)\n",
    "np.delete(arr,obj,axis)\n"
   ]
  },
  {
   "cell_type": "code",
   "execution_count": 28,
   "id": "ea9b4beb",
   "metadata": {},
   "outputs": [
    {
     "name": "stdout",
     "output_type": "stream",
     "text": [
      "[[[10 17 17 10]\n",
      "  [10 17 18 12]]\n",
      "\n",
      " [[18 16 16 14]\n",
      "  [13 11 15 10]]\n",
      "\n",
      " [[13 14 18 19]\n",
      "  [16 11 12 10]]]\n",
      "(3, 2, 4)\n"
     ]
    }
   ],
   "source": [
    "a=np.random.randint(10,20,(3,2,4))\n",
    "print(a)\n",
    "print(a.shape)"
   ]
  },
  {
   "cell_type": "code",
   "execution_count": 15,
   "id": "1838f703",
   "metadata": {},
   "outputs": [
    {
     "data": {
      "text/plain": [
       "array([[[100, 100, 100, 100],\n",
       "        [100, 100, 100, 100]],\n",
       "\n",
       "       [[ 17,  19,  17,  18],\n",
       "        [ 16,  12,  17,  11]],\n",
       "\n",
       "       [[ 11,  19,  13,  12],\n",
       "        [ 15,  19,  15,  12]],\n",
       "\n",
       "       [[ 16,  10,  13,  16],\n",
       "        [ 11,  17,  16,  16]]])"
      ]
     },
     "execution_count": 15,
     "metadata": {},
     "output_type": "execute_result"
    }
   ],
   "source": [
    "np.insert(a,0,100,axis=0)"
   ]
  },
  {
   "cell_type": "code",
   "execution_count": 30,
   "id": "88912389",
   "metadata": {},
   "outputs": [
    {
     "name": "stdout",
     "output_type": "stream",
     "text": [
      "[[[ 5  3  3  4]\n",
      "  [ 6  7  2  8]\n",
      "  [ 6  4  6  5]]\n",
      "\n",
      " [[ 3  7  8  3]\n",
      "  [ 8  7  6  4]\n",
      "  [ 3  6  8  4]]\n",
      "\n",
      " [[13 10 13 18]\n",
      "  [11 11 13 12]\n",
      "  [16 19 18 18]]\n",
      "\n",
      " [[14 13 19 10]\n",
      "  [17 19 16 14]\n",
      "  [10 17 15 17]]]\n"
     ]
    }
   ],
   "source": [
    "a=np.random.randint(2,9,(2,3,4))\n",
    "b=np.random.randint(10,20,(2,3,4))\n",
    "c=np.append(a,b,axis=0)\n",
    "print(c)\n",
    "# np.append(a,20)"
   ]
  },
  {
   "cell_type": "code",
   "execution_count": null,
   "id": "a393f55d",
   "metadata": {},
   "outputs": [],
   "source": []
  }
 ],
 "metadata": {
  "kernelspec": {
   "display_name": "Python 3 (ipykernel)",
   "language": "python",
   "name": "python3"
  },
  "language_info": {
   "codemirror_mode": {
    "name": "ipython",
    "version": 3
   },
   "file_extension": ".py",
   "mimetype": "text/x-python",
   "name": "python",
   "nbconvert_exporter": "python",
   "pygments_lexer": "ipython3",
   "version": "3.9.13"
  }
 },
 "nbformat": 4,
 "nbformat_minor": 5
}
