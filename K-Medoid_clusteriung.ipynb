{
 "cells": [
  {
   "cell_type": "code",
   "execution_count": 1,
   "id": "5ed3e021",
   "metadata": {},
   "outputs": [
    {
     "name": "stdout",
     "output_type": "stream",
     "text": [
      "Collecting scikit-learn-extra\n",
      "  Downloading scikit_learn_extra-0.3.0-cp39-cp39-win_amd64.whl (346 kB)\n",
      "     -------------------------------------- 346.2/346.2 kB 4.3 MB/s eta 0:00:00\n",
      "Requirement already satisfied: scipy>=0.19.1 in c:\\users\\sudha\\anaconda3\\lib\\site-packages (from scikit-learn-extra) (1.9.1)\n",
      "Requirement already satisfied: numpy>=1.13.3 in c:\\users\\sudha\\anaconda3\\lib\\site-packages (from scikit-learn-extra) (1.21.5)\n",
      "Requirement already satisfied: scikit-learn>=0.23.0 in c:\\users\\sudha\\anaconda3\\lib\\site-packages (from scikit-learn-extra) (1.0.2)\n",
      "Requirement already satisfied: threadpoolctl>=2.0.0 in c:\\users\\sudha\\anaconda3\\lib\\site-packages (from scikit-learn>=0.23.0->scikit-learn-extra) (2.2.0)\n",
      "Requirement already satisfied: joblib>=0.11 in c:\\users\\sudha\\anaconda3\\lib\\site-packages (from scikit-learn>=0.23.0->scikit-learn-extra) (1.1.0)\n",
      "Installing collected packages: scikit-learn-extra\n",
      "Successfully installed scikit-learn-extra-0.3.0\n"
     ]
    }
   ],
   "source": [
    "!pip install scikit-learn-extra"
   ]
  },
  {
   "cell_type": "code",
   "execution_count": 11,
   "id": "a687f8f8",
   "metadata": {},
   "outputs": [],
   "source": [
    "import pandas as pd \n",
    "import numpy as np\n",
    "import matplotlib.pyplot as plt\n",
    "from sklearn_extra.cluster import KMedoids\n",
    "\n",
    "points={\n",
    "    \"A\":[1.1],\n",
    "    \"B\":[2.1],\n",
    "    \"C\":[2.2],\n",
    "    \"D\":[8.9],\n",
    "    \"E\":[9.8],\n",
    "    \"F\":[9.9],\n",
    "}\n",
    "labels=list(points.keys())\n",
    "data=np.array(list(points.values()))"
   ]
  },
  {
   "cell_type": "code",
   "execution_count": 7,
   "id": "39896bd2",
   "metadata": {},
   "outputs": [
    {
     "data": {
      "text/plain": [
       "KMedoids(n_clusters=2, random_state=42)"
      ]
     },
     "execution_count": 7,
     "metadata": {},
     "output_type": "execute_result"
    }
   ],
   "source": [
    "kmedoids=KMedoids(n_clusters=2,random_state=42, method='alternate', metric='euclidean')\n",
    "kmedoids.fit(data)"
   ]
  },
  {
   "cell_type": "code",
   "execution_count": 8,
   "id": "c966a572",
   "metadata": {},
   "outputs": [],
   "source": [
    "cluster_labels=kmedoids.labels_\n",
    "medoid_indices=kmedoids.medoid_indices_\n",
    "medoid_points=data[medoid_indices]\n"
   ]
  },
  {
   "cell_type": "code",
   "execution_count": 16,
   "id": "a839afa7",
   "metadata": {},
   "outputs": [
    {
     "ename": "IndexError",
     "evalue": "index 1 is out of bounds for axis 0 with size 1",
     "output_type": "error",
     "traceback": [
      "\u001b[1;31m---------------------------------------------------------------------------\u001b[0m",
      "\u001b[1;31mIndexError\u001b[0m                                Traceback (most recent call last)",
      "Input \u001b[1;32mIn [16]\u001b[0m, in \u001b[0;36m<cell line: 3>\u001b[1;34m()\u001b[0m\n\u001b[0;32m      2\u001b[0m colour\u001b[38;5;241m=\u001b[39m[\u001b[38;5;124m'\u001b[39m\u001b[38;5;124mc0\u001b[39m\u001b[38;5;124m'\u001b[39m, \u001b[38;5;124m'\u001b[39m\u001b[38;5;124mc1\u001b[39m\u001b[38;5;124m'\u001b[39m]\n\u001b[0;32m      3\u001b[0m \u001b[38;5;28;01mfor\u001b[39;00m i,point \u001b[38;5;129;01min\u001b[39;00m \u001b[38;5;28menumerate\u001b[39m(data):\n\u001b[1;32m----> 4\u001b[0m     plt\u001b[38;5;241m.\u001b[39mscatter(point[\u001b[38;5;241m0\u001b[39m], \u001b[43mpoint\u001b[49m\u001b[43m[\u001b[49m\u001b[38;5;241;43m1\u001b[39;49m\u001b[43m]\u001b[49m, c\u001b[38;5;241m=\u001b[39mcolour[cluster_labels[i]], label\u001b[38;5;241m=\u001b[39mlabels[i])\n\u001b[0;32m      5\u001b[0m     plt\u001b[38;5;241m.\u001b[39mtext(point[\u001b[38;5;241m0\u001b[39m]\u001b[38;5;241m+\u001b[39m\u001b[38;5;241m0.1\u001b[39m, point[\u001b[38;5;241m1\u001b[39m], labels[i], fontsize\u001b[38;5;241m=\u001b[39m\u001b[38;5;241m12\u001b[39m)\n\u001b[0;32m      6\u001b[0m plt\u001b[38;5;241m.\u001b[39mscatter(medoid_points[:, \u001b[38;5;241m0\u001b[39m], medoid_points[:, \u001b[38;5;241m1\u001b[39m], c\u001b[38;5;241m=\u001b[39m\u001b[38;5;124m'\u001b[39m\u001b[38;5;124mblack\u001b[39m\u001b[38;5;124m'\u001b[39m, marker\u001b[38;5;241m=\u001b[39m\u001b[38;5;124m'\u001b[39m\u001b[38;5;124m*\u001b[39m\u001b[38;5;124m'\u001b[39m, s\u001b[38;5;241m=\u001b[39m\u001b[38;5;241m200\u001b[39m, label\u001b[38;5;241m=\u001b[39m\u001b[38;5;124m'\u001b[39m\u001b[38;5;124mMedoid\u001b[39m\u001b[38;5;124m'\u001b[39m)\n",
      "\u001b[1;31mIndexError\u001b[0m: index 1 is out of bounds for axis 0 with size 1"
     ]
    },
    {
     "data": {
      "text/plain": [
       "<Figure size 800x600 with 0 Axes>"
      ]
     },
     "metadata": {},
     "output_type": "display_data"
    }
   ],
   "source": [
    "plt.figure(figsize=(8,6))\n",
    "colour=['c0', 'c1']\n",
    "for i,point in enumerate(data):\n",
    "    plt.scatter(point[0], point[1], c=colour[cluster_labels[i]], label=labels[i])\n",
    "    plt.text(point[0]+0.1, point[1], labels[i], fontsize=12)\n",
    "plt.scatter(medoid_points[:, 0], medoid_points[:, 1], c='black', marker='*', s=200, label='Medoid')\n",
    "plt.title(\"K-Medoids Clustering (k=2)\")\n",
    "plt.xlabel(\"x\")\n",
    "plt.ylabel(\"y\")\n",
    "plt.show()"
   ]
  },
  {
   "cell_type": "code",
   "execution_count": null,
   "id": "715b7325",
   "metadata": {},
   "outputs": [],
   "source": []
  }
 ],
 "metadata": {
  "kernelspec": {
   "display_name": "Python 3 (ipykernel)",
   "language": "python",
   "name": "python3"
  },
  "language_info": {
   "codemirror_mode": {
    "name": "ipython",
    "version": 3
   },
   "file_extension": ".py",
   "mimetype": "text/x-python",
   "name": "python",
   "nbconvert_exporter": "python",
   "pygments_lexer": "ipython3",
   "version": "3.9.13"
  }
 },
 "nbformat": 4,
 "nbformat_minor": 5
}
