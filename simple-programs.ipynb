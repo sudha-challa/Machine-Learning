{
 "cells": [
  {
   "cell_type": "code",
   "execution_count": 5,
   "id": "8a45efeb",
   "metadata": {},
   "outputs": [],
   "source": [
    "# list=[50,60,20]\n",
    "# print(sum(list))\n",
    "# for i in range(1,3):\n",
    "#     if i==1:\n",
    "#         percentage=(i%sum)*100\n",
    "#         i=i+1\n",
    "\n"
   ]
  },
  {
   "cell_type": "code",
   "execution_count": 6,
   "id": "ab13a4d2",
   "metadata": {},
   "outputs": [
    {
     "name": "stdout",
     "output_type": "stream",
     "text": [
      "78\n",
      "The person is eligible\n"
     ]
    }
   ],
   "source": [
    "#Age >18 then the person is eligible to vote otherwise not eligible\n",
    "Age=int(input())\n",
    "if Age>18:\n",
    "    print(\"The person is eligible\")\n",
    "else:\n",
    "    print(\"The person is not eligible\")"
   ]
  },
  {
   "cell_type": "code",
   "execution_count": 7,
   "id": "170031c6",
   "metadata": {},
   "outputs": [
    {
     "name": "stdout",
     "output_type": "stream",
     "text": [
      "34\n",
      "45\n",
      "N2 is greater than N1\n"
     ]
    }
   ],
   "source": [
    "N1=int(input())\n",
    "N2=int(input())\n",
    "if N1>N2:\n",
    "    print(\"N1 is greater than N2\" )\n",
    "else:\n",
    "    print(\"N2 is greater than N1\" )"
   ]
  },
  {
   "cell_type": "code",
   "execution_count": 8,
   "id": "ecc3072c",
   "metadata": {},
   "outputs": [
    {
     "name": "stdout",
     "output_type": "stream",
     "text": [
      "43\n",
      "N is positive\n"
     ]
    }
   ],
   "source": [
    "N=int(input())\n",
    "if N>0:\n",
    "    print(\"N is positive\" )\n",
    "elif N<0:\n",
    "    print(\"N is negative\" )\n",
    "elif N==0:\n",
    "    print(\"N is zero\")\n",
    "else:\n",
    "    print(\"Error\")"
   ]
  },
  {
   "cell_type": "code",
   "execution_count": 9,
   "id": "d2e0e98f",
   "metadata": {},
   "outputs": [
    {
     "name": "stdout",
     "output_type": "stream",
     "text": [
      "45\n",
      "457\n",
      "34\n",
      "N2 is greatest\n"
     ]
    }
   ],
   "source": [
    "N1=int(input())\n",
    "N2=int(input())\n",
    "N3=int(input())\n",
    "if N1>N2 and N1>N3:\n",
    "    print(\"N1 is greatest\")\n",
    "elif N2>N3:\n",
    "    print(\"N2 is greatest\")\n",
    "else:\n",
    "    print(\"N3 is greatest\")\n"
   ]
  },
  {
   "cell_type": "code",
   "execution_count": 10,
   "id": "c6c8ddf3",
   "metadata": {},
   "outputs": [
    {
     "name": "stdout",
     "output_type": "stream",
     "text": [
      "Account Balance:433655\n",
      "Amount to be withdraw:346366\n",
      "Balance remaining: 87289.0\n"
     ]
    }
   ],
   "source": [
    "N1=float(input(\"Account Balance:\"))\n",
    "N2=float(input(\"Amount to be withdraw:\"))\n",
    "#N=N1-N2\n",
    "if (N1-N2)>0:\n",
    "    print(\"Balance remaining:\",N1-N2)\n",
    "else:\n",
    "    print(\"insufficient balance\")\n",
    "\n"
   ]
  },
  {
   "cell_type": "code",
   "execution_count": null,
   "id": "d9699f79",
   "metadata": {},
   "outputs": [],
   "source": []
  },
  {
   "cell_type": "code",
   "execution_count": null,
   "id": "d0729f81",
   "metadata": {},
   "outputs": [],
   "source": []
  }
 ],
 "metadata": {
  "kernelspec": {
   "display_name": "Python 3 (ipykernel)",
   "language": "python",
   "name": "python3"
  },
  "language_info": {
   "codemirror_mode": {
    "name": "ipython",
    "version": 3
   },
   "file_extension": ".py",
   "mimetype": "text/x-python",
   "name": "python",
   "nbconvert_exporter": "python",
   "pygments_lexer": "ipython3",
   "version": "3.9.13"
  }
 },
 "nbformat": 4,
 "nbformat_minor": 5
}
